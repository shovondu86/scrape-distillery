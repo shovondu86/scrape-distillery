{
 "cells": [
  {
   "cell_type": "code",
   "execution_count": 4,
   "metadata": {},
   "outputs": [
    {
     "name": "stdout",
     "output_type": "stream",
     "text": [
      "Update complete!\n"
     ]
    }
   ],
   "source": [
    "import arcpy\n",
    "\n",
    "# Define feature classes and join field\n",
    "target_fc = \"scrap_feat_dup_name\"\n",
    "# source_fc = \"scrap_feat_dup_name_web_dist\"\n",
    "source_fc = \"scrap_feat_dup_name_whiskyMap\"\n",
    "\n",
    "join_field = \"distillery_name\"  # Common field between source and target\n",
    "\n",
    "# Get field names, excluding ObjectID fields\n",
    "fields = [f.name for f in arcpy.ListFields(target_fc) if f.name not in (\"OBJECTID\", \"Shape\")]\n",
    "\n",
    "# Ensure join_field is in fields\n",
    "if join_field not in fields:\n",
    "    raise ValueError(f\"Join field '{join_field}' not found in target feature class.\")\n",
    "\n",
    "# Prepare field lists for cursor\n",
    "target_fields = [join_field] + fields  # Include join field in update cursor\n",
    "source_fields = [join_field] + fields  # Include join field in search cursor\n",
    "\n",
    "# Create a dictionary from source_fc\n",
    "source_dict = {}\n",
    "with arcpy.da.SearchCursor(source_fc, source_fields) as search_cursor:\n",
    "    for row in search_cursor:\n",
    "        source_dict[row[0]] = row[1:]  # Store all attributes (except join_field)\n",
    "\n",
    "# Update target_fc where attributes are NULL\n",
    "with arcpy.da.UpdateCursor(target_fc, target_fields) as update_cursor:\n",
    "    for row in update_cursor:\n",
    "        key = row[0]  # Get the join field value\n",
    "        if key in source_dict:\n",
    "            updated_row = list(row)  # Convert to list for editing\n",
    "            source_values = source_dict[key]\n",
    "            for i in range(1, len(fields)):  # Skip join field (index 0)\n",
    "                if updated_row[i] is None or updated_row[i] == \"\":  # Check for NULL/Empty\n",
    "                    updated_row[i] = source_values[i - 1]  # Assign source value\n",
    "\n",
    "            update_cursor.updateRow(updated_row)  # Update row in target_fc\n",
    "\n",
    "print(\"Update complete!\")\n"
   ]
  },
  {
   "cell_type": "code",
   "execution_count": null,
   "metadata": {},
   "outputs": [],
   "source": []
  }
 ],
 "metadata": {
  "kernelspec": {
   "display_name": "ArcGISPro",
   "language": "python",
   "name": "python3"
  },
  "language_info": {
   "file_extension": ".py",
   "mimetype": "text/x-python",
   "name": "python",
   "version": "3.11.10"
  }
 },
 "nbformat": 4,
 "nbformat_minor": 4
}
