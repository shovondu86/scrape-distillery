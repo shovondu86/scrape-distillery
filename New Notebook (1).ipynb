{
 "cells": [
  {
   "cell_type": "code",
   "execution_count": 5,
   "metadata": {},
   "outputs": [
    {
     "name": "stdout",
     "output_type": "stream",
     "text": [
      "Insert operation completed successfully!\n"
     ]
    }
   ],
   "source": [
    "import arcpy\n",
    "\n",
    "# Define feature classes and join field\n",
    "target_fc = \"scrap_feat_dup_name\"\n",
    "source_fc = \"scrap_feat_dup_name_web_dist\"\n",
    "join_field = \"distillery_name\"  # Common field between source and target\n",
    "\n",
    "# Get field names, excluding ObjectID and Shape fields\n",
    "fields = [f.name for f in arcpy.ListFields(target_fc) if f.name not in (\"OBJECTID\", \"Shape\")]\n",
    "\n",
    "# Collect existing join_field values from target_fc\n",
    "existing_values = set()\n",
    "with arcpy.da.SearchCursor(target_fc, [join_field]) as target_cursor:\n",
    "    for row in target_cursor:\n",
    "        existing_values.add(row[0])\n",
    "\n",
    "# Insert new records from source_fc where join_field does NOT exist in target_fc\n",
    "with arcpy.da.InsertCursor(target_fc, fields) as insert_cursor:\n",
    "    with arcpy.da.SearchCursor(source_fc, fields) as search_cursor:\n",
    "        for row in search_cursor:\n",
    "            if row[fields.index(join_field)] not in existing_values:  # Check if join_field is new\n",
    "                insert_cursor.insertRow(row)  # Insert only new records\n",
    "\n",
    "print(\"Insert operation completed successfully!\")\n"
   ]
  },
  {
   "cell_type": "code",
   "execution_count": null,
   "metadata": {},
   "outputs": [],
   "source": []
  }
 ],
 "metadata": {
  "kernelspec": {
   "display_name": "ArcGISPro",
   "language": "python",
   "name": "python3"
  },
  "language_info": {
   "file_extension": ".py",
   "mimetype": "text/x-python",
   "name": "python",
   "version": "3.11.10"
  }
 },
 "nbformat": 4,
 "nbformat_minor": 4
}
